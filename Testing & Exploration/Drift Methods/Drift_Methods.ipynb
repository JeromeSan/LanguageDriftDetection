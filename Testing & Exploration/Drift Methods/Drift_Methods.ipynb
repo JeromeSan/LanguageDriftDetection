{
  "cells": [
    {
      "cell_type": "code",
      "execution_count": null,
      "metadata": {
        "colab": {
          "base_uri": "https://localhost:8080/"
        },
        "id": "qiHvZwIs86_1",
        "outputId": "67e48684-58e2-40f9-e696-ba495942a0d5"
      },
      "outputs": [
        {
          "output_type": "stream",
          "name": "stdout",
          "text": [
            "Installs finished\n"
          ]
        }
      ],
      "source": [
        "!pip install auto-sklearn &> /dev/null\n",
        "!pip uninstall -y scipy &> /dev/null\n",
        "!pip install scipy==1.7.3 &> /dev/null\n",
        "!pip install xlrd==2.0.0 &> /dev/null\n",
        "!pip install scikit-multiflow &> /dev/null\n",
        "print('Installs finished')"
      ]
    },
    {
      "cell_type": "code",
      "execution_count": null,
      "metadata": {
        "id": "BGCjq0of8uTC"
      },
      "outputs": [],
      "source": [
        "import pandas as pd\n",
        "import numpy as np\n",
        "from tqdm import tqdm\n",
        "from datetime import datetime,date\n",
        "from itertools import compress\n",
        "import matplotlib.pyplot as plt\n",
        "import random\n",
        "from random import sample\n",
        "from sklearn.base import TransformerMixin\n",
        "import pickle\n",
        "import autosklearn.classification\n",
        "from sklearn.feature_extraction.text import TfidfVectorizer, CountVectorizer\n",
        "import sklearn.metrics\n",
        "from sklearn.metrics import roc_auc_score, precision_recall_fscore_support\n",
        "import glob\n",
        "from time import time\n",
        "from sklearn.model_selection import train_test_split\n",
        "from skmultiflow.drift_detection import DDM, ADWIN, EDDM, HDDM_A, PageHinkley\n",
        "import math\n",
        "\n",
        "rng = np.random.default_rng(4711)"
      ]
    },
    {
      "cell_type": "code",
      "execution_count": null,
      "metadata": {
        "colab": {
          "base_uri": "https://localhost:8080/"
        },
        "id": "1_vk2MpV9DU7",
        "outputId": "a46c2ce8-a2d6-44f4-a4ee-91b9ff9f3905"
      },
      "outputs": [
        {
          "output_type": "stream",
          "name": "stdout",
          "text": [
            "Mounted at /content/drive\n"
          ]
        }
      ],
      "source": [
        "from google.colab import drive\n",
        "drive.mount('/content/drive')"
      ]
    },
    {
      "cell_type": "code",
      "execution_count": null,
      "metadata": {
        "id": "YWC2H2jB9E6r"
      },
      "outputs": [],
      "source": [
        "commentsDF = pd.DataFrame(columns={'ID'})\n",
        "for file in glob.glob(\"/content/drive/MyDrive/MA/Daten/*\"):\n",
        "     tempDF = pd.read_excel(file)\n",
        "     commentsDF = pd.concat([commentsDF, tempDF], join='outer')\n",
        "\n",
        "commentsDF = commentsDF.drop(columns=['ID', 'Active', 'CID', 'Sperrhinweis', 'Loginname'],axis=1)\n",
        "\n",
        "commentsDF['Date'] =  pd.to_datetime(commentsDF['Date'], format='%Y-%m-%d %H:%M:%S')\n",
        "commentsDF['Time'] = pd.to_datetime(commentsDF['Date']).dt.time\n",
        "commentsDF['Date'] = pd.to_datetime(commentsDF['Date']).dt.date\n",
        "commentsDF['Date'] = pd.to_datetime(commentsDF['Date'], format='%Y-%m-%d')\n",
        "\n",
        "commentsDF['Text'] = commentsDF['Text'].astype(str)\n",
        "commentsDF['Title'] = commentsDF['Title'].astype(str)\n",
        "\n",
        "commentsDF = commentsDF.drop_duplicates(subset=['Text']) \n",
        "commentsDF = commentsDF.sort_values(by=['Date']).reset_index(drop=True)"
      ]
    },
    {
      "cell_type": "code",
      "execution_count": null,
      "metadata": {
        "id": "uQxv7D7JHqXg"
      },
      "outputs": [],
      "source": [
        "# creates Sampled down version of dataset\n",
        "\n",
        "dateRange = pd.period_range(start='2018-11-01', end='2020-06-01', freq='M')\n",
        "timeSampledDF = pd.DataFrame(columns={'ID'})\n",
        "\n",
        "\n",
        "for i in range(len(dateRange)):\n",
        "  month = dateRange[i].month\n",
        "  year = dateRange[i].year\n",
        "  monthData = commentsDF[(commentsDF.Date.dt.month == dateRange[i].month) & (commentsDF.Date.dt.year == dateRange[i].year)]\n",
        "  countMinor = len(monthData[monthData.Abgelehnt == 1])\n",
        "  if countMinor < 600:\n",
        "    countMinor = 600\n",
        "  minorityDF = monthData[monthData.Abgelehnt == 1]\n",
        "  majorityDF = monthData[monthData.Abgelehnt == 0].sample(axis='index', \n",
        "                                                          n=countMinor, \n",
        "                                                          random_state=4711,)\n",
        "  timeSampledDF = pd.concat([timeSampledDF, majorityDF], join='outer')\n",
        "  timeSampledDF = pd.concat([timeSampledDF, minorityDF], join='outer')\n",
        "\n",
        "y_vals = commentsDF['Abgelehnt'].values\n",
        "y_vals = y_vals.astype(int)\n",
        "\n",
        "\n",
        "commentsDF['index1'] = commentsDF.index\n",
        "timeSampledDF['index1'] = timeSampledDF.index\n",
        "timeSampledDF.sort_values(by='Date',inplace=True)\n",
        "\n",
        "commentsDF['Mask'] = commentsDF.index1.apply(lambda x: 1 if x in timeSampledDF.index1 else 0)\n",
        "mask = np.array(commentsDF['Mask']).astype('bool')\n",
        "y_vals_sample = timeSampledDF['Abgelehnt'].values\n",
        "y_vals_sample = y_vals_sample.astype(int)"
      ]
    },
    {
      "cell_type": "code",
      "execution_count": null,
      "metadata": {
        "id": "3iZxjXDI9f6Z"
      },
      "outputs": [],
      "source": [
        "german_stop_words_import = open (\"/content/drive/MyDrive/MA/stopwords-de.csv\", \n",
        "                                 \"r\", encoding=\"utf-8\")\n",
        "german_stop_words = pd.read_csv(german_stop_words_import, \n",
        "                                names=['stopwords'])['stopwords'].to_list()\n",
        "\n",
        "vectorizer = TfidfVectorizer(stop_words=german_stop_words, \n",
        "                             ngram_range=(1,2),max_features=3000)\n",
        "\n",
        "# preprocessor = TextPreprocessingTransformer()\n",
        "# preprocessed = preprocessor.transform(np.array(timeSampledDF[\"Text\"]))\n",
        "\n",
        "# with open('sample_preprocessed.pk', 'wb') as fin:\n",
        "#     pickle.dump(preprocessed, fin)\n",
        "\n",
        "tfidf_pickle = open (\"/content/drive/MyDrive/MA/preprocessed_balanced.pk\", \"rb\")\n",
        "preprocessed = pickle.load(tfidf_pickle)\n",
        "\n",
        "# tfidf = vectorizer.fit_transform(preprocessed)"
      ]
    },
    {
      "cell_type": "markdown",
      "metadata": {
        "id": "l7sz8-p_oWXo"
      },
      "source": [
        "### AutoML Model trained on time-framed data\n"
      ]
    },
    {
      "cell_type": "code",
      "execution_count": null,
      "metadata": {
        "id": "-S2pM2-gYbO7"
      },
      "outputs": [],
      "source": [
        "train_batch = np.array((timeSampledDF.Date < \"2019-11-01\") & (timeSampledDF.Date >= \"2019-08-01\"))\n",
        "test = timeSampledDF['Date'] >= \"2019-11-01\"\n",
        "\n",
        "x_timed = list(compress(preprocessed, train_batch))\n",
        "\n",
        "y_train_timed = y_vals_sample[train_batch]\n",
        "x_train_timed = vectorizer.fit_transform(x_timed).toarray()\n",
        "\n",
        "# automl_timed_3m = autosklearn.classification.AutoSklearnClassifier(\n",
        "#     time_left_for_this_task=360,\n",
        "#     n_jobs=-1,\n",
        "#     metric = autosklearn.metrics.f1\n",
        "# )\n",
        "\n",
        "# automl_timed_3m.fit(x_train_timed, y_train_timed)"
      ]
    },
    {
      "cell_type": "code",
      "execution_count": null,
      "metadata": {
        "id": "2VbZ6f-a-KYd"
      },
      "outputs": [],
      "source": [
        "automl_timed_load = open (\"/content/drive/MyDrive/MA/autoML_timed_balanced.pk\", \"rb\")\n",
        "automl_timed = pickle.load(automl_timed_load)"
      ]
    },
    {
      "cell_type": "code",
      "execution_count": null,
      "metadata": {
        "id": "p4E1nhcNrw-r"
      },
      "outputs": [],
      "source": [
        "train_batch = np.array(timeSampledDF.Date < \"2019-11-01\")\n",
        "test = timeSampledDF['Date'] >= \"2019-11-01\""
      ]
    },
    {
      "cell_type": "code",
      "execution_count": null,
      "metadata": {
        "id": "iwhz2vojnU-p"
      },
      "outputs": [],
      "source": [
        "x_timed = list(compress(preprocessed, train_batch))\n",
        "vectorizer = vectorizer.fit(x_timed)"
      ]
    },
    {
      "cell_type": "code",
      "execution_count": null,
      "metadata": {
        "id": "SrqNXyKroXHX"
      },
      "outputs": [],
      "source": [
        "x_test = list(compress(preprocessed, np.array(test)))\n",
        "\n",
        "x_test_timed = vectorizer.transform(x_test).toarray()\n",
        "y_test_timed = y_vals_sample[test]\n",
        "\n",
        "y_pred_timed = automl_timed.predict(x_test_timed)"
      ]
    },
    {
      "cell_type": "code",
      "execution_count": null,
      "metadata": {
        "id": "dtrY9Zxq2H3i"
      },
      "outputs": [],
      "source": [
        "def createDriftDF(detector, model, vectorizer, method, datastream):\n",
        "  refitModel = model\n",
        "  buffer = 0\n",
        "  testRange = []\n",
        "  driftDF = pd.DataFrame(columns=['Date', 'Drift'])\n",
        "  driftDF['Date'] = timeSampledDF[test]['Date'] \n",
        "  batch = []\n",
        "  batch = pd.DataFrame()\n",
        "  # batching\n",
        "  for i in range(len(datastream)):\n",
        " \n",
        "    batch = batch.append(datastream.iloc[i])\n",
        "    if(len(batch) >= 500):\n",
        "      if(0<buffer<500):\n",
        "        buffer += 1\n",
        "      else:\n",
        "        x_transform = vectorizer.transform(batch.x).toarray()\n",
        "        y_pred = refitModel.predict(x_transform)\n",
        "        if (method == 4): \n",
        "          errors = [1 if i == j else 0 for i, j in zip(batch.y, y_pred)]\n",
        "        else:\n",
        "          errors =  abs(batch.y - y_pred)\n",
        "\n",
        "        for error in errors:\n",
        "          detector.add_element(error)\n",
        "\n",
        "          if(detector.detected_change()):\n",
        "            driftDF['Drift'].iloc[i] = 1\n",
        "            print(\"Drift detected at\", datastream.Date.iloc[i])\n",
        "            buffer = 0\n",
        "            batch = pd.DataFrame()\n",
        "            break\n",
        "\n",
        "          else:\n",
        "            buffer = 1\n",
        "  # driftDF['Mis Prob'] = misclassificationProb\n",
        "  # driftDF['Mis Dev'] = misclassificationDev\n",
        "  driftDF.dropna(inplace=True)\n",
        "  driftDF['Method'] = method\n",
        "  return driftDF"
      ]
    },
    {
      "cell_type": "code",
      "execution_count": null,
      "metadata": {
        "id": "FxX6qxE0tNOO"
      },
      "outputs": [],
      "source": [
        "def getDriftPoints(detector, datastream, method):\n",
        "  testRange = []\n",
        "  driftDF = pd.DataFrame(columns=['Date', 'Drift'])\n",
        "  driftDF['Date'] =  timeSampledDF[test]['Date']\n",
        "  batch = []\n",
        "\n",
        "  for i in range(len(datastream)):\n",
        "    testRange.append(x_test_timed[i])\n",
        "    batch.append(datastream[i])\n",
        "    if(len(batch)>500):\n",
        "      for value in batch:\n",
        "        detector.add_element(value)\n",
        "        # if ddm.detected_warning_zone():\n",
        "        #   print(\"Warning zone has been detected in data: {} \"\n",
        "        #   \"- of index: {}\".format(datastream[i],i))\n",
        "        if (detector.detected_change()):\n",
        "          # print(\"Change has been detected at {} \".format(timeSampledDF[test].iloc[i].Date))\n",
        "          driftDF.Drift.iloc[i] = 1\n",
        "          testRange = []\n",
        "        batch = []\n",
        "\n",
        "  driftDF.dropna(inplace=True)\n",
        "  driftDF['Method'] = method\n",
        "  return driftDF"
      ]
    },
    {
      "cell_type": "code",
      "execution_count": null,
      "metadata": {
        "id": "SQN0Z5Sm4KNJ"
      },
      "outputs": [],
      "source": [
        "preprocessFrame = timeSampledDF\n",
        "preprocessFrame.Text = preprocessed\n",
        "testMask = timeSampledDF.Date >= \"2019-11-01\"\n",
        "\n",
        "datastream = preprocessFrame[testMask][['Text', 'Abgelehnt', 'Date']].copy().sort_values(by='Date')\n",
        "datastream.rename(columns={'Text':'x', 'Abgelehnt':'y'}, inplace=True)"
      ]
    },
    {
      "cell_type": "markdown",
      "metadata": {
        "id": "qpTAOOXjdbbh"
      },
      "source": []
    },
    {
      "cell_type": "markdown",
      "source": [
        "# Drift with regular Model"
      ],
      "metadata": {
        "id": "u4GjINDICr47"
      }
    },
    {
      "cell_type": "code",
      "source": [
        "ddm = DDM()\n",
        "ddmDrift = createDriftDF(ddm, automl_timed, vectorizer, 1, datastream)"
      ],
      "metadata": {
        "id": "kNTKrv8FGB9S"
      },
      "execution_count": null,
      "outputs": []
    },
    {
      "cell_type": "code",
      "execution_count": null,
      "metadata": {
        "id": "uOy_n0H4C6Yx"
      },
      "outputs": [],
      "source": [
        "ddm = DDM()\n",
        "ddmDrift = createDriftDF(ddm, automl_timed, vectorizer, 1, datastream)\n",
        "\n",
        "eddm = EDDM()\n",
        "eddmDrift = createDriftDF(eddm, automl_timed, vectorizer, 2, datastream)\n",
        "\n",
        "hddm = HDDM_A()\n",
        "hddmDrift = createDriftDF(hddm, automl_timed, vectorizer, 3, datastream)\n",
        "\n",
        "adwin = ADWIN(delta=0.0002)\n",
        "adwinDrift = createDriftDF(adwin, automl_timed, vectorizer, 4, datastream)\n",
        "\n",
        "ph = PageHinkley()\n",
        "phDrift = createDriftDF(ph, automl_timed, vectorizer, 5, datastream)"
      ]
    },
    {
      "cell_type": "code",
      "execution_count": null,
      "metadata": {
        "id": "M46-YbHgC6Yx"
      },
      "outputs": [],
      "source": [
        "# ddmDrift.dropna(inplace=True)\n",
        "# eddmDrift.dropna(inplace=True)\n",
        "# hddmDrift.dropna(inplace=True)\n",
        "# adwinDrift.dropna(inplace=True)\n",
        "# phDrift.dropna(inplace=True)"
      ]
    },
    {
      "cell_type": "code",
      "execution_count": null,
      "metadata": {
        "id": "bnp3fE5tC6Yy"
      },
      "outputs": [],
      "source": [
        "plotDF = pd.concat([ddmDrift, eddmDrift, hddmDrift, adwinDrift, phDrift]).sort_values(by='Method')\n"
      ]
    },
    {
      "cell_type": "code",
      "execution_count": null,
      "metadata": {
        "id": "URJdttEoC6Yy"
      },
      "outputs": [],
      "source": [
        "plotDF.Drift = plotDF.Drift.astype(int)\n",
        "voteDF = plotDF.groupby('Date').sum()"
      ]
    },
    {
      "cell_type": "code",
      "execution_count": null,
      "metadata": {
        "id": "6uRZJk72C6Yy"
      },
      "outputs": [],
      "source": [
        "voteDF['Drift'] = np.where(voteDF.Drift >= 3, 1, np.nan)\n",
        "voteDF.dropna(inplace=True)\n"
      ]
    },
    {
      "cell_type": "code",
      "execution_count": null,
      "metadata": {
        "colab": {
          "base_uri": "https://localhost:8080/",
          "height": 238
        },
        "outputId": "f888331f-6bf6-43c0-cce3-d60661c1650f",
        "id": "iirIHJydC6Yy"
      },
      "outputs": [
        {
          "data": {
            "text/html": [
              "\n",
              "  <div id=\"df-d15f21fd-6ff7-4c57-bb00-e03650933c19\">\n",
              "    <div class=\"colab-df-container\">\n",
              "      <div>\n",
              "<style scoped>\n",
              "    .dataframe tbody tr th:only-of-type {\n",
              "        vertical-align: middle;\n",
              "    }\n",
              "\n",
              "    .dataframe tbody tr th {\n",
              "        vertical-align: top;\n",
              "    }\n",
              "\n",
              "    .dataframe thead th {\n",
              "        text-align: right;\n",
              "    }\n",
              "</style>\n",
              "<table border=\"1\" class=\"dataframe\">\n",
              "  <thead>\n",
              "    <tr style=\"text-align: right;\">\n",
              "      <th></th>\n",
              "      <th>Drift</th>\n",
              "      <th>Method</th>\n",
              "    </tr>\n",
              "    <tr>\n",
              "      <th>Date</th>\n",
              "      <th></th>\n",
              "      <th></th>\n",
              "    </tr>\n",
              "  </thead>\n",
              "  <tbody>\n",
              "    <tr>\n",
              "      <th>2019-11-08</th>\n",
              "      <td>1.0</td>\n",
              "      <td>6</td>\n",
              "    </tr>\n",
              "    <tr>\n",
              "      <th>2019-11-18</th>\n",
              "      <td>1.0</td>\n",
              "      <td>14</td>\n",
              "    </tr>\n",
              "    <tr>\n",
              "      <th>2020-04-01</th>\n",
              "      <td>1.0</td>\n",
              "      <td>10</td>\n",
              "    </tr>\n",
              "    <tr>\n",
              "      <th>2020-05-17</th>\n",
              "      <td>1.0</td>\n",
              "      <td>6</td>\n",
              "    </tr>\n",
              "    <tr>\n",
              "      <th>2020-06-20</th>\n",
              "      <td>1.0</td>\n",
              "      <td>14</td>\n",
              "    </tr>\n",
              "  </tbody>\n",
              "</table>\n",
              "</div>\n",
              "      <button class=\"colab-df-convert\" onclick=\"convertToInteractive('df-d15f21fd-6ff7-4c57-bb00-e03650933c19')\"\n",
              "              title=\"Convert this dataframe to an interactive table.\"\n",
              "              style=\"display:none;\">\n",
              "        \n",
              "  <svg xmlns=\"http://www.w3.org/2000/svg\" height=\"24px\"viewBox=\"0 0 24 24\"\n",
              "       width=\"24px\">\n",
              "    <path d=\"M0 0h24v24H0V0z\" fill=\"none\"/>\n",
              "    <path d=\"M18.56 5.44l.94 2.06.94-2.06 2.06-.94-2.06-.94-.94-2.06-.94 2.06-2.06.94zm-11 1L8.5 8.5l.94-2.06 2.06-.94-2.06-.94L8.5 2.5l-.94 2.06-2.06.94zm10 10l.94 2.06.94-2.06 2.06-.94-2.06-.94-.94-2.06-.94 2.06-2.06.94z\"/><path d=\"M17.41 7.96l-1.37-1.37c-.4-.4-.92-.59-1.43-.59-.52 0-1.04.2-1.43.59L10.3 9.45l-7.72 7.72c-.78.78-.78 2.05 0 2.83L4 21.41c.39.39.9.59 1.41.59.51 0 1.02-.2 1.41-.59l7.78-7.78 2.81-2.81c.8-.78.8-2.07 0-2.86zM5.41 20L4 18.59l7.72-7.72 1.47 1.35L5.41 20z\"/>\n",
              "  </svg>\n",
              "      </button>\n",
              "      \n",
              "  <style>\n",
              "    .colab-df-container {\n",
              "      display:flex;\n",
              "      flex-wrap:wrap;\n",
              "      gap: 12px;\n",
              "    }\n",
              "\n",
              "    .colab-df-convert {\n",
              "      background-color: #E8F0FE;\n",
              "      border: none;\n",
              "      border-radius: 50%;\n",
              "      cursor: pointer;\n",
              "      display: none;\n",
              "      fill: #1967D2;\n",
              "      height: 32px;\n",
              "      padding: 0 0 0 0;\n",
              "      width: 32px;\n",
              "    }\n",
              "\n",
              "    .colab-df-convert:hover {\n",
              "      background-color: #E2EBFA;\n",
              "      box-shadow: 0px 1px 2px rgba(60, 64, 67, 0.3), 0px 1px 3px 1px rgba(60, 64, 67, 0.15);\n",
              "      fill: #174EA6;\n",
              "    }\n",
              "\n",
              "    [theme=dark] .colab-df-convert {\n",
              "      background-color: #3B4455;\n",
              "      fill: #D2E3FC;\n",
              "    }\n",
              "\n",
              "    [theme=dark] .colab-df-convert:hover {\n",
              "      background-color: #434B5C;\n",
              "      box-shadow: 0px 1px 3px 1px rgba(0, 0, 0, 0.15);\n",
              "      filter: drop-shadow(0px 1px 2px rgba(0, 0, 0, 0.3));\n",
              "      fill: #FFFFFF;\n",
              "    }\n",
              "  </style>\n",
              "\n",
              "      <script>\n",
              "        const buttonEl =\n",
              "          document.querySelector('#df-d15f21fd-6ff7-4c57-bb00-e03650933c19 button.colab-df-convert');\n",
              "        buttonEl.style.display =\n",
              "          google.colab.kernel.accessAllowed ? 'block' : 'none';\n",
              "\n",
              "        async function convertToInteractive(key) {\n",
              "          const element = document.querySelector('#df-d15f21fd-6ff7-4c57-bb00-e03650933c19');\n",
              "          const dataTable =\n",
              "            await google.colab.kernel.invokeFunction('convertToInteractive',\n",
              "                                                     [key], {});\n",
              "          if (!dataTable) return;\n",
              "\n",
              "          const docLinkHtml = 'Like what you see? Visit the ' +\n",
              "            '<a target=\"_blank\" href=https://colab.research.google.com/notebooks/data_table.ipynb>data table notebook</a>'\n",
              "            + ' to learn more about interactive tables.';\n",
              "          element.innerHTML = '';\n",
              "          dataTable['output_type'] = 'display_data';\n",
              "          await google.colab.output.renderOutput(dataTable, element);\n",
              "          const docLink = document.createElement('div');\n",
              "          docLink.innerHTML = docLinkHtml;\n",
              "          element.appendChild(docLink);\n",
              "        }\n",
              "      </script>\n",
              "    </div>\n",
              "  </div>\n",
              "  "
            ],
            "text/plain": [
              "            Drift  Method\n",
              "Date                     \n",
              "2019-11-08    1.0       6\n",
              "2019-11-18    1.0      14\n",
              "2020-04-01    1.0      10\n",
              "2020-05-17    1.0       6\n",
              "2020-06-20    1.0      14"
            ]
          },
          "execution_count": 36,
          "metadata": {},
          "output_type": "execute_result"
        }
      ],
      "source": [
        "voteDF"
      ]
    },
    {
      "cell_type": "code",
      "execution_count": null,
      "metadata": {
        "colab": {
          "base_uri": "https://localhost:8080/",
          "height": 334
        },
        "outputId": "662afff3-336a-45a1-fafd-35ab7fd51224",
        "id": "j9tJgn5XC6Yy"
      },
      "outputs": [
        {
          "data": {
            "image/png": "[encoded data removed]",
            "text/plain": [
              "<Figure size 1080x360 with 1 Axes>"
            ]
          },
          "metadata": {},
          "output_type": "display_data"
        }
      ],
      "source": [
        "import seaborn as sns\n",
        "\n",
        "fig, ax = plt.subplots(figsize=(15, 5))\n",
        "\n",
        "scat = sns.scatterplot(data=voteDF, x=\"Date\", y=\"Drift\",\n",
        "                                palette='deep', s=150, legend=False)\n",
        "\n",
        "scat.set_yticklabels([])\n",
        "scat.tick_params(left=False)"
      ]
    },
    {
      "cell_type": "code",
      "execution_count": null,
      "metadata": {
        "colab": {
          "base_uri": "https://localhost:8080/",
          "height": 421
        },
        "outputId": "599387a6-9f89-4712-b485-0ea9ea222b4a",
        "id": "lWtdPn4kC6Yz"
      },
      "outputs": [
        {
          "output_type": "execute_result",
          "data": {
            "text/plain": [
              "[Text(0, 0, 'DDM'),\n",
              " Text(0, 0, 'EDDM'),\n",
              " Text(0, 0, 'HDDM_A'),\n",
              " Text(0, 0, 'ADWIN'),\n",
              " Text(0, 0, 'Page Hinkley')]"
            ]
          },
          "metadata": {},
          "execution_count": 45
        },
        {
          "output_type": "display_data",
          "data": {
            "text/plain": [
              "<Figure size 1080x360 with 1 Axes>"
            ],
            "image/png": "[encoded data removed]"
          },
          "metadata": {
            "needs_background": "light"
          }
        }
      ],
      "source": [
        "import seaborn as sns\n",
        "\n",
        "fig, ax = plt.subplots(figsize=(15, 5))\n",
        "\n",
        "fig.add_subplot(sns.scatterplot(data=plotDF, x=\"Date\", y=\"Method\", hue=\"Method\",\n",
        "                                palette='deep', s=150, legend=False))\n",
        "ax.set_yticks(np.arange(1,6))\n",
        "ax.set_xlim([date(2019,11,1), date(2020,7,1)])\n",
        "ax.set_yticklabels(['DDM', 'EDDM', 'HDDM_A', 'ADWIN', 'Page Hinkley'])"
      ]
    },
    {
      "cell_type": "markdown",
      "source": [
        "# Drift with 3 month Model"
      ],
      "metadata": {
        "id": "XW9S361TClNC"
      }
    },
    {
      "cell_type": "code",
      "execution_count": null,
      "metadata": {
        "id": "H5uFDoCnVkPn"
      },
      "outputs": [],
      "source": [
        "ddm = DDM(out_control_level=2.0)\n",
        "ddmDrift = createDriftDF(ddm, automl_timed_3m, vectorizer, 1, datastream)\n",
        "\n",
        "eddm = EDDM()\n",
        "eddmDrift = createDriftDF(eddm, automl_timed_3m, vectorizer, 2, datastream)\n",
        "\n",
        "hddm = HDDM_A()\n",
        "hddmDrift = createDriftDF(hddm, automl_timed_3m, vectorizer, 3, datastream)\n",
        "\n",
        "adwin = ADWIN(delta=0.0002)\n",
        "adwinDrift = createDriftDF(adwin, automl_timed_3m, vectorizer, 4, datastream)\n",
        "\n",
        "ph = PageHinkley()\n",
        "phDrift = createDriftDF(ph, automl_timed_3m, vectorizer, 5, datastream)"
      ]
    },
    {
      "cell_type": "code",
      "execution_count": null,
      "metadata": {
        "id": "g_s4Gc_BdOGr"
      },
      "outputs": [],
      "source": [
        "# ddmDrift.dropna(inplace=True)\n",
        "# eddmDrift.dropna(inplace=True)\n",
        "# hddmDrift.dropna(inplace=True)\n",
        "# adwinDrift.dropna(inplace=True)\n",
        "# phDrift.dropna(inplace=True)"
      ]
    },
    {
      "cell_type": "code",
      "execution_count": null,
      "metadata": {
        "id": "QBZCqmOdx9Cp"
      },
      "outputs": [],
      "source": [
        "plotDF = pd.concat([ddmDrift, eddmDrift, hddmDrift, adwinDrift, phDrift]).sort_values(by='Method')\n"
      ]
    },
    {
      "cell_type": "code",
      "execution_count": null,
      "metadata": {
        "id": "atYUB3as5lnm"
      },
      "outputs": [],
      "source": [
        "plotDF.Drift = plotDF.Drift.astype(int)\n",
        "voteDF = plotDF.groupby('Date').sum()"
      ]
    },
    {
      "cell_type": "code",
      "execution_count": null,
      "metadata": {
        "id": "I2-aeHC15svg"
      },
      "outputs": [],
      "source": [
        "voteDF['Drift'] = np.where(voteDF.Drift >= 3, 1, np.nan)\n",
        "voteDF.dropna(inplace=True)\n"
      ]
    },
    {
      "cell_type": "code",
      "execution_count": null,
      "metadata": {
        "colab": {
          "base_uri": "https://localhost:8080/",
          "height": 238
        },
        "id": "zGS2HoWh7oiE",
        "outputId": "f888331f-6bf6-43c0-cce3-d60661c1650f"
      },
      "outputs": [
        {
          "data": {
            "text/html": [
              "\n",
              "  <div id=\"df-d15f21fd-6ff7-4c57-bb00-e03650933c19\">\n",
              "    <div class=\"colab-df-container\">\n",
              "      <div>\n",
              "<style scoped>\n",
              "    .dataframe tbody tr th:only-of-type {\n",
              "        vertical-align: middle;\n",
              "    }\n",
              "\n",
              "    .dataframe tbody tr th {\n",
              "        vertical-align: top;\n",
              "    }\n",
              "\n",
              "    .dataframe thead th {\n",
              "        text-align: right;\n",
              "    }\n",
              "</style>\n",
              "<table border=\"1\" class=\"dataframe\">\n",
              "  <thead>\n",
              "    <tr style=\"text-align: right;\">\n",
              "      <th></th>\n",
              "      <th>Drift</th>\n",
              "      <th>Method</th>\n",
              "    </tr>\n",
              "    <tr>\n",
              "      <th>Date</th>\n",
              "      <th></th>\n",
              "      <th></th>\n",
              "    </tr>\n",
              "  </thead>\n",
              "  <tbody>\n",
              "    <tr>\n",
              "      <th>2019-11-08</th>\n",
              "      <td>1.0</td>\n",
              "      <td>6</td>\n",
              "    </tr>\n",
              "    <tr>\n",
              "      <th>2019-11-18</th>\n",
              "      <td>1.0</td>\n",
              "      <td>14</td>\n",
              "    </tr>\n",
              "    <tr>\n",
              "      <th>2020-04-01</th>\n",
              "      <td>1.0</td>\n",
              "      <td>10</td>\n",
              "    </tr>\n",
              "    <tr>\n",
              "      <th>2020-05-17</th>\n",
              "      <td>1.0</td>\n",
              "      <td>6</td>\n",
              "    </tr>\n",
              "    <tr>\n",
              "      <th>2020-06-20</th>\n",
              "      <td>1.0</td>\n",
              "      <td>14</td>\n",
              "    </tr>\n",
              "  </tbody>\n",
              "</table>\n",
              "</div>\n",
              "      <button class=\"colab-df-convert\" onclick=\"convertToInteractive('df-d15f21fd-6ff7-4c57-bb00-e03650933c19')\"\n",
              "              title=\"Convert this dataframe to an interactive table.\"\n",
              "              style=\"display:none;\">\n",
              "        \n",
              "  <svg xmlns=\"http://www.w3.org/2000/svg\" height=\"24px\"viewBox=\"0 0 24 24\"\n",
              "       width=\"24px\">\n",
              "    <path d=\"M0 0h24v24H0V0z\" fill=\"none\"/>\n",
              "    <path d=\"M18.56 5.44l.94 2.06.94-2.06 2.06-.94-2.06-.94-.94-2.06-.94 2.06-2.06.94zm-11 1L8.5 8.5l.94-2.06 2.06-.94-2.06-.94L8.5 2.5l-.94 2.06-2.06.94zm10 10l.94 2.06.94-2.06 2.06-.94-2.06-.94-.94-2.06-.94 2.06-2.06.94z\"/><path d=\"M17.41 7.96l-1.37-1.37c-.4-.4-.92-.59-1.43-.59-.52 0-1.04.2-1.43.59L10.3 9.45l-7.72 7.72c-.78.78-.78 2.05 0 2.83L4 21.41c.39.39.9.59 1.41.59.51 0 1.02-.2 1.41-.59l7.78-7.78 2.81-2.81c.8-.78.8-2.07 0-2.86zM5.41 20L4 18.59l7.72-7.72 1.47 1.35L5.41 20z\"/>\n",
              "  </svg>\n",
              "      </button>\n",
              "      \n",
              "  <style>\n",
              "    .colab-df-container {\n",
              "      display:flex;\n",
              "      flex-wrap:wrap;\n",
              "      gap: 12px;\n",
              "    }\n",
              "\n",
              "    .colab-df-convert {\n",
              "      background-color: #E8F0FE;\n",
              "      border: none;\n",
              "      border-radius: 50%;\n",
              "      cursor: pointer;\n",
              "      display: none;\n",
              "      fill: #1967D2;\n",
              "      height: 32px;\n",
              "      padding: 0 0 0 0;\n",
              "      width: 32px;\n",
              "    }\n",
              "\n",
              "    .colab-df-convert:hover {\n",
              "      background-color: #E2EBFA;\n",
              "      box-shadow: 0px 1px 2px rgba(60, 64, 67, 0.3), 0px 1px 3px 1px rgba(60, 64, 67, 0.15);\n",
              "      fill: #174EA6;\n",
              "    }\n",
              "\n",
              "    [theme=dark] .colab-df-convert {\n",
              "      background-color: #3B4455;\n",
              "      fill: #D2E3FC;\n",
              "    }\n",
              "\n",
              "    [theme=dark] .colab-df-convert:hover {\n",
              "      background-color: #434B5C;\n",
              "      box-shadow: 0px 1px 3px 1px rgba(0, 0, 0, 0.15);\n",
              "      filter: drop-shadow(0px 1px 2px rgba(0, 0, 0, 0.3));\n",
              "      fill: #FFFFFF;\n",
              "    }\n",
              "  </style>\n",
              "\n",
              "      <script>\n",
              "        const buttonEl =\n",
              "          document.querySelector('#df-d15f21fd-6ff7-4c57-bb00-e03650933c19 button.colab-df-convert');\n",
              "        buttonEl.style.display =\n",
              "          google.colab.kernel.accessAllowed ? 'block' : 'none';\n",
              "\n",
              "        async function convertToInteractive(key) {\n",
              "          const element = document.querySelector('#df-d15f21fd-6ff7-4c57-bb00-e03650933c19');\n",
              "          const dataTable =\n",
              "            await google.colab.kernel.invokeFunction('convertToInteractive',\n",
              "                                                     [key], {});\n",
              "          if (!dataTable) return;\n",
              "\n",
              "          const docLinkHtml = 'Like what you see? Visit the ' +\n",
              "            '<a target=\"_blank\" href=https://colab.research.google.com/notebooks/data_table.ipynb>data table notebook</a>'\n",
              "            + ' to learn more about interactive tables.';\n",
              "          element.innerHTML = '';\n",
              "          dataTable['output_type'] = 'display_data';\n",
              "          await google.colab.output.renderOutput(dataTable, element);\n",
              "          const docLink = document.createElement('div');\n",
              "          docLink.innerHTML = docLinkHtml;\n",
              "          element.appendChild(docLink);\n",
              "        }\n",
              "      </script>\n",
              "    </div>\n",
              "  </div>\n",
              "  "
            ],
            "text/plain": [
              "            Drift  Method\n",
              "Date                     \n",
              "2019-11-08    1.0       6\n",
              "2019-11-18    1.0      14\n",
              "2020-04-01    1.0      10\n",
              "2020-05-17    1.0       6\n",
              "2020-06-20    1.0      14"
            ]
          },
          "execution_count": 36,
          "metadata": {},
          "output_type": "execute_result"
        }
      ],
      "source": [
        "voteDF"
      ]
    },
    {
      "cell_type": "code",
      "execution_count": null,
      "metadata": {
        "colab": {
          "base_uri": "https://localhost:8080/",
          "height": 334
        },
        "id": "FA4YpJJV52zX",
        "outputId": "662afff3-336a-45a1-fafd-35ab7fd51224"
      },
      "outputs": [
        {
          "data": {
            "image/png": "[encoded data removed]",
            "text/plain": [
              "<Figure size 1080x360 with 1 Axes>"
            ]
          },
          "metadata": {},
          "output_type": "display_data"
        }
      ],
      "source": [
        "import seaborn as sns\n",
        "\n",
        "fig, ax = plt.subplots(figsize=(15, 5))\n",
        "\n",
        "scat = sns.scatterplot(data=voteDF, x=\"Date\", y=\"Drift\",\n",
        "                                palette='deep', s=150, legend=False)\n",
        "\n",
        "scat.set_yticklabels([])\n",
        "scat.tick_params(left=False)"
      ]
    },
    {
      "cell_type": "code",
      "execution_count": null,
      "metadata": {
        "colab": {
          "base_uri": "https://localhost:8080/",
          "height": 421
        },
        "id": "FUAANR0P-wR3",
        "outputId": "98eddbf3-7bb0-4741-e61e-d20fc2fe6034"
      },
      "outputs": [
        {
          "output_type": "execute_result",
          "data": {
            "text/plain": [
              "[Text(0, 0, 'DDM'),\n",
              " Text(0, 0, 'EDDM'),\n",
              " Text(0, 0, 'HDDM_A'),\n",
              " Text(0, 0, 'ADWIN'),\n",
              " Text(0, 0, 'Page Hinkley')]"
            ]
          },
          "metadata": {},
          "execution_count": 37
        },
        {
          "output_type": "display_data",
          "data": {
            "text/plain": [
              "<Figure size 1080x360 with 1 Axes>"
            ],
            "image/png": "[encoded data removed]"
          },
          "metadata": {
            "needs_background": "light"
          }
        }
      ],
      "source": [
        "import seaborn as sns\n",
        "\n",
        "fig, ax = plt.subplots(figsize=(15, 5))\n",
        "\n",
        "fig.add_subplot(sns.scatterplot(data=plotDF, x=\"Date\", y=\"Method\", hue=\"Method\",\n",
        "                                palette='deep', s=150, legend=False))\n",
        "ax.set_yticks(np.arange(1,6))\n",
        "ax.set_xlim([date(2019,11,1), date(2020,7,1)])\n",
        "ax.set_yticklabels(['DDM', 'EDDM', 'HDDM_A', 'ADWIN', 'Page Hinkley'])"
      ]
    },
    {
      "cell_type": "markdown",
      "metadata": {
        "id": "n69W58jSMyKC"
      },
      "source": [
        "# EWMA Implementation"
      ]
    },
    {
      "cell_type": "code",
      "execution_count": null,
      "metadata": {
        "id": "RUqL3dP-VC3z"
      },
      "outputs": [],
      "source": [
        "class EWMA():\n",
        "    \"\"\"The Exponentially Weighted Moving Average (EWMA) drift detection method class.\"\"\"\n",
        "    \n",
        "    def __init__(self, min_instance=30, lambda_=0.2, c=1, w=0.5):\n",
        "        '''\n",
        "        The Exponentially Weighted Moving Average (EWMA) drift detection method class.\n",
        "        :param: min_instance: quantity of instance to start detect a concept drift\n",
        "        '''\n",
        "\n",
        "        self.MINIMUM_NUM_INSTANCES = min_instance\n",
        "\n",
        "        self.t = 1.0\n",
        "        self.sum = 0.0\n",
        "        self.sigma_xt = 0.0\n",
        "        self.sigma_zt = 0.0\n",
        "        self.z_t = 0.0\n",
        "        self.lambda_ = lambda_\n",
        "        self.L_t = c\n",
        "        self.w = w\n",
        "        \n",
        "    def fit(self, classifier, vectorizer, W):\n",
        "        '''\n",
        "        method to fit to the current concept \n",
        "        '''\n",
        "        \n",
        "        for obs in W:\n",
        "            x, y = vectorizer.transform(obs[:-1]).toarray(), obs[-1]\n",
        "            \n",
        "            try:\n",
        "                yi = classifier.predict(x)\n",
        "            except:\n",
        "                yi = classifier.predict([x])\n",
        "            \n",
        "            pred = True\n",
        "            if(yi != y):\n",
        "                pred = False\n",
        "                \n",
        "            self.run(pred)\n",
        "    \n",
        "    def run(self, prediction):\n",
        "      '''\n",
        "      method to update the parameters of ewma\n",
        "      :param: prediction: true if the prediction is correct, otherwise no\n",
        "      '''\n",
        "      prediction = 1 if prediction is False else 0\n",
        "\n",
        "      warning_status = False\n",
        "      drift_status = False\n",
        "\n",
        "      # 1. UPDATING STATS\n",
        "      self.sum += prediction\n",
        "      self.sigma_xt = self.sum / self.t\n",
        "      self.sigma_zt = math.sqrt(self.sigma_xt * (1.0 - self.sigma_xt) * self.lambda_ * (1.0 - math.pow(1.0 - self.lambda_, 2.0 * self.t)) / (2.0 - self.lambda_))\n",
        "      self.t += 1\n",
        "\n",
        "      self.z_t += self.lambda_ * (prediction - self.z_t)\n",
        "      #L_t = 3.97 - 6.56 * self.sigma_xt + 48.73 * math.pow(self.sigma_xt, 3) - 330.13 * math.pow(self.sigma_xt, 5) + 848.18 * math.pow(self.sigma_xt, 7)\n",
        "\n",
        "      # 2. UPDATING WARNING AND DRIFT STATUSES\n",
        "      if self.t < self.MINIMUM_NUM_INSTANCES:\n",
        "        return False, False\n",
        "\n",
        "      if self.z_t > self.sigma_xt + self.L_t * self.sigma_zt:\n",
        "        drift_status = True\n",
        "      elif self.z_t > self.sigma_xt + self.w * self.L_t * self.sigma_zt:\n",
        "        warning_status = True\n",
        "\n",
        "      return warning_status, drift_status\n",
        "\n",
        "\n",
        "    def detect(self, y_true, y_pred):\n",
        "        '''\n",
        "        method to monitor the index\n",
        "        '''\n",
        "        \n",
        "        # checkint out the prediction of classifier\n",
        "        pred = True\n",
        "        if(y_true != y_pred):\n",
        "            pred = False\n",
        "        \n",
        "        warning_level, change_level = self.run(pred)\n",
        "        \n",
        "        return warning_level, change_level\n",
        "\n",
        "    def reset(self):\n",
        "        '''\n",
        "        method to reset the detector\n",
        "        '''\n",
        "        \n",
        "        self.t = 1\n",
        "        self.sum = 0\n",
        "        self.sigma_xt = 0\n",
        "        self.sigma_zt = 0\n",
        "        self.z_t = 0"
      ]
    },
    {
      "cell_type": "markdown",
      "metadata": {
        "id": "Y9sjK5FVHLT8"
      },
      "source": [
        "Fit Detector on Batch of current concept in training data, then run on test data"
      ]
    },
    {
      "cell_type": "code",
      "execution_count": null,
      "metadata": {
        "id": "3k8_wjgHHkQ9"
      },
      "outputs": [],
      "source": [
        "train_concept = timeSampledDF[train_batch][-1000:][['Text', 'Abgelehnt']].to_numpy()\n",
        "stream = datastream.copy().to_numpy()"
      ]
    },
    {
      "cell_type": "code",
      "execution_count": null,
      "metadata": {
        "id": "cQImF35yBhOL"
      },
      "outputs": [],
      "source": [
        "ema = EWMA(min_instance=500)\n",
        "ema.fit(automl_timed_3m, vectorizer, train_concept)\n"
      ]
    },
    {
      "cell_type": "code",
      "execution_count": null,
      "metadata": {
        "colab": {
          "base_uri": "https://localhost:8080/"
        },
        "id": "BTixJ93BJQ_G",
        "outputId": "70a385ec-0bb2-418f-868e-aa5c7295361e"
      },
      "outputs": [
        {
          "output_type": "stream",
          "name": "stdout",
          "text": [
            "Drift detected\n",
            "Drift detected\n",
            "Drift detected\n",
            "Drift detected\n",
            "Drift detected\n",
            "Drift detected\n",
            "Drift detected\n",
            "Drift detected\n",
            "Drift detected\n",
            "Drift detected\n",
            "Drift detected\n",
            "Drift detected\n",
            "Drift detected\n",
            "Drift detected\n",
            "Drift detected\n",
            "Drift detected\n",
            "Drift detected\n",
            "Drift detected\n",
            "Drift detected\n"
          ]
        }
      ],
      "source": [
        "drift = []\n",
        "i = 0\n",
        "\n",
        "for instance in stream:\n",
        "  x, y = vectorizer.transform([instance[0]]).toarray(), instance[1]\n",
        "\n",
        "  yi = automl_timed_3m.predict(x)\n",
        "  error = bool(abs(y - yi))\n",
        "  warning_level, change_level = ema.run(error)\n",
        "\n",
        "  if(change_level == True):\n",
        "  # storing the time when warning was triggered\n",
        "    print('Drift detected')\n",
        "    drift.append(instance[2])\n",
        "    ema.reset()"
      ]
    },
    {
      "cell_type": "code",
      "source": [
        "ewmaDF = pd.DataFrame({'Date':drift,'Method':6})\n",
        "\n",
        "plot2DF = pd.concat([ddmDrift, eddmDrift, hddmDrift, adwinDrift, phDrift, ewmaDF]).sort_values(by='Method')"
      ],
      "metadata": {
        "id": "APYnPy31IfKf"
      },
      "execution_count": null,
      "outputs": []
    },
    {
      "cell_type": "code",
      "source": [
        "import seaborn as sns\n",
        "\n",
        "fig, ax = plt.subplots(figsize=(15, 5))\n",
        "\n",
        "fig.add_subplot(sns.scatterplot(data=plot2DF, x=\"Date\", y=\"Method\", hue=\"Method\",\n",
        "                                palette='deep', s=150, legend=False))\n",
        "ax.set_yticks(np.arange(1,7))\n",
        "ax.set_xlim([date(2019,11,1), date(2020,7,1)])\n",
        "ax.set_yticklabels(['DDM', 'EDDM', 'HDDM_A', 'ADWIN', 'Page Hinkley','EWMA'])"
      ],
      "metadata": {
        "colab": {
          "base_uri": "https://localhost:8080/",
          "height": 438
        },
        "id": "y41EcO_Rg5Kw",
        "outputId": "bf5eeb86-281f-41aa-d4ca-55431a2b1068"
      },
      "execution_count": null,
      "outputs": [
        {
          "output_type": "execute_result",
          "data": {
            "text/plain": [
              "[Text(0, 0, 'DDM'),\n",
              " Text(0, 0, 'EDDM'),\n",
              " Text(0, 0, 'HDDM_A'),\n",
              " Text(0, 0, 'ADWIN'),\n",
              " Text(0, 0, 'Page Hinkley'),\n",
              " Text(0, 0, 'EWMA')]"
            ]
          },
          "metadata": {},
          "execution_count": 66
        },
        {
          "output_type": "display_data",
          "data": {
            "text/plain": [
              "<Figure size 1080x360 with 1 Axes>"
            ],
            "image/png": "[encoded data removed]"
          },
          "metadata": {
            "needs_background": "light"
          }
        }
      ]
    },
    {
      "cell_type": "markdown",
      "source": [
        "# Linear Four Rates Model\n",
        "\n",
        "taken from: https://github.com/thuijskens/hlfr"
      ],
      "metadata": {
        "id": "bPhjzoWyD6Cv"
      }
    },
    {
      "cell_type": "code",
      "source": [
        "def _compute_tpr(confusion_matrix):\n",
        "    return confusion_matrix.tp / (confusion_matrix.tp + confusion_matrix.fn)\n",
        "\n",
        "\n",
        "def _compute_tnr(confusion_matrix):\n",
        "    return confusion_matrix.tn / (confusion_matrix.tn + confusion_matrix.fp)\n",
        "\n",
        "\n",
        "def _compute_ppv(confusion_matrix):\n",
        "    return confusion_matrix.tp / (confusion_matrix.tp + confusion_matrix.fp)\n",
        "\n",
        "\n",
        "def _compute_npv(confusion_matrix):\n",
        "    return confusion_matrix.tn / (confusion_matrix.tn + confusion_matrix.fn)\n",
        "\n",
        "\n",
        "METRICS_FUNCTION_MAPPING = {\n",
        "    'tpr': _compute_tpr,\n",
        "    'tnr': _compute_tnr,\n",
        "    'ppv': _compute_ppv,\n",
        "    'npv': _compute_npv\n",
        "}\n",
        "\n",
        "\n",
        "class StreamingConfusionMatrix(object):\n",
        "    def __init__(self):\n",
        "        self.confusion_matrix = np.ones((2, 2))\n",
        "        self.tp = 1\n",
        "        self.fp = 1\n",
        "        self.tn = 1\n",
        "        self.fn = 1\n",
        "\n",
        "    def update_confusion_matrix(self, y_true, y_pred):\n",
        "        self.confusion_matrix[y_pred, y_true] += 1\n",
        "        self._update_statistics()\n",
        "        return self.confusion_matrix\n",
        "\n",
        "    def reset_internals(self):\n",
        "        self.confusion_matrix = np.ones((2, 2))\n",
        "        self.tp = 1\n",
        "        self.fp = 1\n",
        "        self.tn = 1\n",
        "        self.fn = 1\n",
        "\n",
        "    def _update_statistics(self):\n",
        "        self.tp = self.confusion_matrix[1, 1]\n",
        "        self.fp = self.confusion_matrix[1, 0]\n",
        "        self.tn = self.confusion_matrix[0, 0]\n",
        "        self.fn = self.confusion_matrix[0, 1]\n",
        "\n",
        "\n",
        "class PerformanceMetric(object):\n",
        "    def __init__(self, metric_name, decay):\n",
        "        \"\"\"\n",
        "        decay is a function\n",
        "        :param metric_name: \n",
        "        :param decay: \n",
        "        \"\"\"\n",
        "        if metric_name not in ['tpr', 'tnr', 'ppv', 'npv']:\n",
        "            raise ValueError('metric_name must be one of tpr, tnr, ppv, or npv, got %s' % metric_name)\n",
        "\n",
        "        self.metric_name = metric_name\n",
        "        self.decay = decay\n",
        "        self.metric_value = [0.5]\n",
        "\n",
        "        self._R = [0.5]\n",
        "        self._P = [0.5]\n",
        "\n",
        "    def reset_internals(self):\n",
        "        self._R[-1] = 0.5\n",
        "        self._P[-1] = 0.5\n",
        "\n",
        "    def update_metric(self, confusion_matrix, y_true, y_pred):\n",
        "\n",
        "        self.metric_value.append(METRICS_FUNCTION_MAPPING[self.metric_name](confusion_matrix))\n",
        "\n",
        "        r_hat = self.update_decay(y_true, y_pred)\n",
        "        n, p_hat = self.update_stats(confusion_matrix.confusion_matrix)\n",
        "\n",
        "        return n, p_hat, r_hat\n",
        "\n",
        "    def metric_changed(self):\n",
        "        return abs(self.metric_value[-1] - self.metric_value[-2]) > 0\n",
        "\n",
        "    def update_decay(self, y_true, y_pred):\n",
        "        if self.metric_changed():\n",
        "            self._R.append(self.decay * self._R[-1] + (1 - self.decay) * int(y_true == y_pred))\n",
        "        else:\n",
        "            self._R.append(self._R[-1])\n",
        "\n",
        "        return self._R[-1]\n",
        "\n",
        "    def update_stats(self, confusion_matrix):\n",
        "        if self.metric_name in ['tpr', 'tnr']:\n",
        "            tpr_indicator = int(self.metric_name == 'tpr')\n",
        "            n = int(confusion_matrix[:, tpr_indicator].sum())\n",
        "\n",
        "            self._P.append(confusion_matrix[tpr_indicator, tpr_indicator] / n)\n",
        "        else:\n",
        "            ppv_indicator = int(self.metric_name == 'ppv')\n",
        "            n = int(confusion_matrix[ppv_indicator, :].sum())\n",
        "\n",
        "            self._P.append(confusion_matrix[ppv_indicator, ppv_indicator] / n)\n",
        "\n",
        "        return n, self._P[-1]"
      ],
      "metadata": {
        "id": "wCWiPtLNEY8i"
      },
      "execution_count": null,
      "outputs": []
    },
    {
      "cell_type": "code",
      "source": [
        "\"\"\"\n",
        "Hierarchical Linear Four Rates \n",
        "HLFR is a concept drift detection algorithm that consists of two layers:\n",
        "    1. Layer-1 hypothesis test that detects a potential drift point T.\n",
        "    2. Layer-2 hypothesis test that confirms the potentiality of drift point T.\n",
        "    \n",
        "If a drift point T is confirmed, the underlying model can be reconfigurated and the procedure restarts.\n",
        "\"\"\"\n",
        "import numpy as np\n",
        "import itertools\n",
        "import math\n",
        "\n",
        "from scipy.stats import bernoulli\n",
        "\n",
        "\n",
        "def compute_bounds(p_hat, decay, n, alpha, n_sim=1000):\n",
        "    bernoulli_samples = bernoulli.rvs(p_hat, size=n * n_sim).reshape(n_sim, n)\n",
        "    # TODO: Check if shapes match\n",
        "\n",
        "    #empirical_bounds = (1 - decay) * (bernoulli_samples * (n - np.arange(1, n + 1))).sum(axis=1)\n",
        "    empirical_bounds = (1 - decay) * np.matmul(bernoulli_samples, decay ** (n - np.arange(1, n + 1)).reshape(n, 1)).sum(axis=1)\n",
        "    lb, ub = np.percentile(empirical_bounds, q=[alpha * 100, (1 - alpha) * 100])\n",
        "\n",
        "    return lb, ub\n",
        "\n",
        "\n",
        "def find_nearest(array, value):\n",
        "    idx = np.searchsorted(array, value, side='left')\n",
        "    if idx > 0 and (idx == len(array) or math.fabs(value - array[idx-1]) < math.fabs(value - array[idx])):\n",
        "        return array[idx-1]\n",
        "    else:\n",
        "        return array[idx]\n",
        "\n",
        "\n",
        "class BoundsTable(object):\n",
        "    def __init__(self, decay, alpha_range, p_hat_range, n_range, n_sim=1000):\n",
        "        self.decay = decay\n",
        "        self.alpha_range = alpha_range\n",
        "        self.p_hat_range = p_hat_range\n",
        "        self.n_range = n_range\n",
        "        self.n_sim = n_sim\n",
        "\n",
        "        self.bounds_table = {}\n",
        "\n",
        "    def compute_bounds_table(self, rng_seed=123321):\n",
        "        np.random.seed(rng_seed)\n",
        "        grid = itertools.product(self.p_hat_range, self.n_range, self.alpha_range)\n",
        "        # TODO: Is it safe to store dictionary keys as floating point values?\n",
        "        self.bounds_table = {(p, n, alpha): compute_bounds(p_hat=p, alpha=alpha, decay=self.decay, n=n, n_sim=self.n_sim)\n",
        "                             for (p, n, alpha) in grid}\n",
        "\n",
        "        return self\n",
        "\n",
        "    def lookup_bounds(self, p, n, alpha):\n",
        "        # We assume here that n and alpha can be exactly matched\n",
        "        p_nearest = find_nearest(self.p_hat_range, p)\n",
        "        return self.bounds_table[(p_nearest, n, alpha)]\n",
        "\n",
        "\n",
        "class LinearFourRates(object):\n",
        "    \"\"\"\n",
        "    The way we code LFR will be that it takes the whole data set, and detects all potential drift points in the time\n",
        "    series.\n",
        "    \"\"\"\n",
        "    def __init__(self, decay, warn_level, detect_level, bounds_table=None):\n",
        "        self.decay = decay\n",
        "        self.warn_level = warn_level\n",
        "        self.detect_level = detect_level\n",
        "        self.bounds_table = bounds_table\n",
        "\n",
        "        self.metrics = {metric_name: PerformanceMetric(metric_name, decay)\n",
        "                        for metric_name in ['tpr', 'tnr', 'ppv', 'npv']}\n",
        "        self.warn_time = 0\n",
        "        self.confusion_matrix = StreamingConfusionMatrix()\n",
        "        self.concept_shift_times = []\n",
        "\n",
        "    def _compute_bounds_table(self, n_samples, rng_seed=4711):\n",
        "        alpha_range = np.array([self.warn_level, self.detect_level])\n",
        "        p_hat_range = np.arange(1, 100) / 100.0\n",
        "        n_range = np.arange(2, n_samples + 1)\n",
        "\n",
        "        self.bounds_table = BoundsTable(self.decay, alpha_range, p_hat_range, n_range, n_sim=1000)\n",
        "        self.bounds_table.compute_bounds_table(rng_seed=rng_seed)\n",
        "\n",
        "        return self.bounds_table\n",
        "\n",
        "    def detect_drift_points(self, y_obs, y_pred):\n",
        "        \"\"\"\n",
        "        Data API. This takes the model and the data, and computes the performance metrics and confusion matrix\n",
        "        before passing these on to _detect_drift_point\n",
        "        \"\"\"\n",
        "        n_samples = y_obs.shape[0]\n",
        "\n",
        "        if self.bounds_table is None:\n",
        "            self._compute_bounds_table(n_samples)\n",
        "\n",
        "        for t, (y, y_hat) in enumerate(zip(y_obs, y_pred)):\n",
        "            self.confusion_matrix.update_confusion_matrix(y, y_hat)\n",
        "\n",
        "            warnings = []\n",
        "            detections = []\n",
        "\n",
        "            for metric in self.metrics.values():\n",
        "                n, p_hat, r_hat = metric.update_metric(self.confusion_matrix, y, y_hat)\n",
        "\n",
        "                lb_warn, ub_warn = self.bounds_table.lookup_bounds(p=p_hat, n=n, alpha=self.warn_level)\n",
        "                lb_detect, ub_detect = self.bounds_table.lookup_bounds(p=p_hat, n=n, alpha=self.detect_level)\n",
        "\n",
        "                warn_shift = (r_hat <= lb_warn) or (r_hat >= ub_warn)\n",
        "                detect_shift = (r_hat <= lb_detect) or (r_hat >= ub_detect)\n",
        "\n",
        "                # NOTE: lb = ub = 0.0. So r_hat >= ub_warn is satisfied... bounds table computation is wrong\n",
        "                print(\"Sample %i: metric %s, R: %.3f, Warn LB: %.3f Warn UB: %.f, Detect LB: %.3f, Detect UB: %.3f, warn: %s detect: %s\"\n",
        "                      % (t, metric.metric_name, r_hat, lb_warn, ub_warn, lb_detect, ub_detect, warn_shift, detect_shift))\n",
        "\n",
        "                warnings.append(warn_shift)\n",
        "                detections.append(detect_shift)\n",
        "\n",
        "            if any(warnings) and self.warn_time is None:\n",
        "                self.warn_time = t\n",
        "            elif all([not warning for warning in warnings]) and self.warn_time is not None:\n",
        "                self.warn_time = None\n",
        "\n",
        "            if any(detections):\n",
        "                self.concept_shift_times.append(t)\n",
        "\n",
        "                # Reset all metrics and confusion matrix\n",
        "                self.confusion_matrix.reset_internals()\n",
        "                self.warn_time = 0\n",
        "                for metric in self.metrics.values():\n",
        "                    metric.reset_internals()\n",
        "\n",
        "            if t % 100 == 0:\n",
        "                print(\"Sample %i\" % t)\n",
        "\n",
        "        return self"
      ],
      "metadata": {
        "id": "leE9T5k9D8kM"
      },
      "execution_count": null,
      "outputs": []
    },
    {
      "cell_type": "code",
      "source": [
        "lfr = LinearFourRates(warn_level=0.01, detect_level=1 / 100, decay=0.9)\n",
        "\n",
        "y_pred = automl_timed.predict(vectorizer.transform(datastream.x).toarray()).astype('int32')\n",
        "y_true = datastream.y.astype('int32')\n"
      ],
      "metadata": {
        "id": "Vwcr4DucEoXI"
      },
      "execution_count": null,
      "outputs": []
    },
    {
      "cell_type": "code",
      "source": [
        "lfr_results = lfr.detect_drift_points(y_true, y_pred)"
      ],
      "metadata": {
        "id": "JlLbx380axy7"
      },
      "execution_count": null,
      "outputs": []
    },
    {
      "cell_type": "code",
      "source": [
        "lfr_load = open (\"lfr_results.pk\", \"rb\")\n",
        "test = pickle.load(lfr_load)"
      ],
      "metadata": {
        "id": "lDipla_4bYQ2"
      },
      "execution_count": null,
      "outputs": []
    }
  ],
  "metadata": {
    "accelerator": "TPU",
    "colab": {
      "collapsed_sections": [],
      "provenance": []
    },
    "gpuClass": "standard",
    "kernelspec": {
      "display_name": "Python 3",
      "name": "python3"
    },
    "language_info": {
      "name": "python"
    }
  },
  "nbformat": 4,
  "nbformat_minor": 0
}